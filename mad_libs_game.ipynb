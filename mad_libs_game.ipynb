{
  "nbformat": 4,
  "nbformat_minor": 0,
  "metadata": {
    "colab": {
      "provenance": [],
      "authorship_tag": "ABX9TyO5rnRiclu7uEPuxeSvepkk",
      "include_colab_link": true
    },
    "kernelspec": {
      "name": "python3",
      "display_name": "Python 3"
    },
    "language_info": {
      "name": "python"
    }
  },
  "cells": [
    {
      "cell_type": "markdown",
      "metadata": {
        "id": "view-in-github",
        "colab_type": "text"
      },
      "source": [
        "<a href=\"https://colab.research.google.com/github/ShezaShamsher/Google-Colab/blob/main/mad_libs_game.ipynb\" target=\"_parent\"><img src=\"https://colab.research.google.com/assets/colab-badge.svg\" alt=\"Open In Colab\"/></a>"
      ]
    },
    {
      "cell_type": "markdown",
      "source": [
        "# **Mad libs game in python**"
      ],
      "metadata": {
        "id": "9SfyQzdFdVrT"
      }
    },
    {
      "cell_type": "code",
      "source": [
        "country = input(\"Enter your favourite country: (e.g Dubai, USA, Japan)\")\n",
        "food = input(\"Enter your favourite food:\")\n",
        "hobby = input(\"Enter your favouurite hobby:\")\n",
        "\n",
        "#story created\n",
        "print(\"\\n Here is my favourite things based on mad libs game \\n\")\n",
        "print(f\"Once upon a time, there was a person who loved traveling. Their favourite country to visit was {country}.\")\n",
        "print(f\"Every time they went there, they couldn't resist eating {food}.\")\n",
        "print(f\"In their free time, they loved to enjoy their favourite hobby, {hobby}.\")\n",
        "print(\"life was always filled with fun adventures and delicious food!\")"
      ],
      "metadata": {
        "colab": {
          "base_uri": "https://localhost:8080/"
        },
        "id": "BtkQmyHUdj9b",
        "outputId": "e9d7db80-395d-4688-9240-4e82e93be24f"
      },
      "execution_count": 5,
      "outputs": [
        {
          "output_type": "stream",
          "name": "stdout",
          "text": [
            "Enter your favourite country: (e.g Dubai, USA, Japan)dubai\n",
            "Enter your favourite food:pasta\n",
            "Enter your favouurite hobby:movie\n",
            "\n",
            " Here is my favourite things based on mad libs game \n",
            "\n",
            "Once upon a time, there was a person who loved traveling. Their favourite country to visit was dubai.\n",
            "Every time they went there, they couldn't resist eating pasta.\n",
            "In their free time, they loved to enjoy their favourite hobby, movie.\n",
            "life was always filled with fun adventures and delicious food!\n"
          ]
        }
      ]
    }
  ]
}