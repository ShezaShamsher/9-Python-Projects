{
  "cells": [
    {
      "cell_type": "markdown",
      "metadata": {
        "id": "view-in-github",
        "colab_type": "text"
      },
      "source": [
        "<a href=\"https://colab.research.google.com/github/ShezaShamsher/9-Python-Projects/blob/main/Countdown_timer.ipynb\" target=\"_parent\"><img src=\"https://colab.research.google.com/assets/colab-badge.svg\" alt=\"Open In Colab\"/></a>"
      ]
    },
    {
      "cell_type": "markdown",
      "metadata": {
        "id": "j7a1sOyqXbzX"
      },
      "source": [
        "# **Countdown timer**"
      ]
    },
    {
      "cell_type": "code",
      "execution_count": 4,
      "metadata": {
        "colab": {
          "base_uri": "https://localhost:8080/"
        },
        "id": "4_nxWyRkXl01",
        "outputId": "12c3b7a6-be03-4b16-cbbf-40f11ef41900"
      },
      "outputs": [
        {
          "output_type": "stream",
          "name": "stdout",
          "text": [
            "HH:MM:SS\n",
            "00:00:00 \n",
            " Time's Up\n"
          ]
        }
      ],
      "source": [
        "import time\n",
        "from IPython.display import clear_output\n",
        "\n",
        "print(\"Here's the countdown timer \\n \")\n",
        "\n",
        "total_time = int(input(\"Enter your time in seconds for Countdown: \"))\n",
        "print(\"HH:MM:SS\")\n",
        "\n",
        "def countdown_timer(seconds):\n",
        "  while seconds > 0:\n",
        "      hours, remainder = divmod(seconds, 3600) # Calculated hours\n",
        "      mins, secs = divmod(remainder, 60) # Calculated minutes and seconds\n",
        "      time_format = '{:02d}:{:02d}:{:02d}'.format(hours, mins, secs)\n",
        "\n",
        "      clear_output(wait=True)\n",
        "      print(\"HH:MM:SS\")\n",
        "      print(time_format)\n",
        "\n",
        "      time.sleep(1) #delay of a second\n",
        "      seconds -= 1\n",
        "  clear_output(wait=True)\n",
        "  print(\"HH:MM:SS\")\n",
        "  print(\"00:00:00 \\n Time's Up\")\n",
        "\n",
        "# User input\n",
        "\n",
        "countdown_timer(total_time)"
      ]
    }
  ],
  "metadata": {
    "colab": {
      "provenance": [],
      "authorship_tag": "ABX9TyNSEFAKkiyDatxzuUtXvTa9",
      "include_colab_link": true
    },
    "kernelspec": {
      "display_name": "Python 3",
      "name": "python3"
    },
    "language_info": {
      "name": "python"
    }
  },
  "nbformat": 4,
  "nbformat_minor": 0
}