{
  "nbformat": 4,
  "nbformat_minor": 0,
  "metadata": {
    "colab": {
      "provenance": [],
      "authorship_tag": "ABX9TyNpm0i1icxgr1Z++pvmauQX",
      "include_colab_link": true
    },
    "kernelspec": {
      "name": "python3",
      "display_name": "Python 3"
    },
    "language_info": {
      "name": "python"
    }
  },
  "cells": [
    {
      "cell_type": "markdown",
      "metadata": {
        "id": "view-in-github",
        "colab_type": "text"
      },
      "source": [
        "<a href=\"https://colab.research.google.com/github/ShezaShamsher/9-Python-Projects/blob/main/Guess_the_number(Computer).ipynb\" target=\"_parent\"><img src=\"https://colab.research.google.com/assets/colab-badge.svg\" alt=\"Open In Colab\"/></a>"
      ]
    },
    {
      "cell_type": "markdown",
      "source": [
        "# **Guess the Number(Computer)**"
      ],
      "metadata": {
        "id": "xv5ZIhqh0rIM"
      }
    },
    {
      "cell_type": "code",
      "source": [
        "import random\n",
        "\n",
        "print(\"Welcome to Number Guessing! \\n\")\n",
        "print(\"You have 3 chances to guess the number between 10 to 50, let's Start!! \\n\")\n",
        "\n",
        "random_number = random.randrange(10, 50)\n",
        "\n",
        "chances = 3\n",
        "\n",
        "guessCount = 0\n",
        "\n",
        "while guessCount < chances:\n",
        "    guessCount += 1\n",
        "\n",
        "    myGuess = int(input(\"Enter a guess number: \"))\n",
        "\n",
        "    if myGuess == random_number:\n",
        "        print(f\"The number is {random_number} and you found it right! in the {guessCount} attempt\")\n",
        "        break\n",
        "\n",
        "    elif guessCount >= chances and myGuess != random_number:\n",
        "        print(f\"Sorry, The number is {random_number} Better luck next time!\")\n",
        "\n",
        "    elif myGuess > random_number:\n",
        "        print(\"Your guess number is very high, try again\")\n",
        "\n",
        "    elif myGuess < random_number:\n",
        "        print(\"Your guess number is very low, try again\")"
      ],
      "metadata": {
        "colab": {
          "base_uri": "https://localhost:8080/"
        },
        "id": "OH2x8SnK1EXa",
        "outputId": "58030558-ff77-4880-f364-5f3afd9df55d"
      },
      "execution_count": 11,
      "outputs": [
        {
          "output_type": "stream",
          "name": "stdout",
          "text": [
            "Welcome to Number Guessing! \n",
            "\n",
            "You have 3 chances to guess the number between 10 to 50, let's Start!! \n",
            "\n",
            "Enter a guess number: 23\n",
            "Your guess number is very low, try again\n",
            "Enter a guess number: 28\n",
            "Your guess number is very low, try again\n",
            "Enter a guess number: 35\n",
            "Sorry, The number is 37 Better luck next time!\n"
          ]
        }
      ]
    }
  ]
}