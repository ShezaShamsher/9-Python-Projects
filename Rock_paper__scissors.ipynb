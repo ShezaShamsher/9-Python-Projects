{
  "nbformat": 4,
  "nbformat_minor": 0,
  "metadata": {
    "colab": {
      "provenance": [],
      "authorship_tag": "ABX9TyOsAFc8gVmx5bZUbA3KmX1O",
      "include_colab_link": true
    },
    "kernelspec": {
      "name": "python3",
      "display_name": "Python 3"
    },
    "language_info": {
      "name": "python"
    }
  },
  "cells": [
    {
      "cell_type": "markdown",
      "metadata": {
        "id": "view-in-github",
        "colab_type": "text"
      },
      "source": [
        "<a href=\"https://colab.research.google.com/github/ShezaShamsher/9-Python-Projects/blob/main/Rock_paper__scissors.ipynb\" target=\"_parent\"><img src=\"https://colab.research.google.com/assets/colab-badge.svg\" alt=\"Open In Colab\"/></a>"
      ]
    },
    {
      "cell_type": "markdown",
      "source": [
        "# **Rock, paper, scissors**"
      ],
      "metadata": {
        "id": "e_4Zq7MGErMI"
      }
    },
    {
      "cell_type": "code",
      "source": [
        "import random\n",
        "\n",
        "print(\"\\n let's play rock, paper, scissors Game \\n \")\n",
        "\n",
        "# game choices\n",
        "choices = [\"rock\", \"paper\", \"scissors\"]\n",
        "\n",
        "playerChoice = input(\"Enter rock, paper, scissors: \").lower()\n",
        "\n",
        "computerChoice = random.choice(choices)\n",
        "\n",
        "if playerChoice == computerChoice:\n",
        "  print(\"It's a tie!\")\n",
        "\n",
        "elif playerChoice == \"rock\" and computerChoice == \"scissors\":\n",
        "  print(f\"Players wins! {playerChoice} beats {computerChoice}\")\n",
        "\n",
        "elif playerChoice == \"paper\" and computerChoice == \"rock\":\n",
        "  print(f\"players wins! {playerChoice} beats {computerChoice}\")\n",
        "\n",
        "elif playerChoice == \"scissors\" and computerChoice == \"paper\":\n",
        "  print(f\"Players wins! {playerChoice} beats {computerChoice}\")\n",
        "\n",
        "else:\n",
        "  print(f\"Computers win! {computerChoice} beats {playerChoice}\")\n",
        ""
      ],
      "metadata": {
        "colab": {
          "base_uri": "https://localhost:8080/"
        },
        "id": "tlb7spYdEwzl",
        "outputId": "cd455494-edf6-44d3-f66a-177b19f18eef"
      },
      "execution_count": 6,
      "outputs": [
        {
          "output_type": "stream",
          "name": "stdout",
          "text": [
            "\n",
            " let's play rock, paper, scissors Game \n",
            " \n",
            "Enter rock, paper, scissors: rock\n",
            "It's a tie!\n"
          ]
        }
      ]
    }
  ]
}