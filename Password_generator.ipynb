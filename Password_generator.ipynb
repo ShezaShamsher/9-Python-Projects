{
  "nbformat": 4,
  "nbformat_minor": 0,
  "metadata": {
    "colab": {
      "provenance": [],
      "authorship_tag": "ABX9TyNqfWqrepZYc6q+figN6m84",
      "include_colab_link": true
    },
    "kernelspec": {
      "name": "python3",
      "display_name": "Python 3"
    },
    "language_info": {
      "name": "python"
    }
  },
  "cells": [
    {
      "cell_type": "markdown",
      "metadata": {
        "id": "view-in-github",
        "colab_type": "text"
      },
      "source": [
        "<a href=\"https://colab.research.google.com/github/ShezaShamsher/9-Python-Projects/blob/main/Password_generator.ipynb\" target=\"_parent\"><img src=\"https://colab.research.google.com/assets/colab-badge.svg\" alt=\"Open In Colab\"/></a>"
      ]
    },
    {
      "cell_type": "markdown",
      "source": [
        "# **Password Generator**"
      ],
      "metadata": {
        "id": "SsVqRXFsi6uT"
      }
    },
    {
      "cell_type": "code",
      "source": [
        "import random\n",
        "import string\n",
        "\n",
        "def password_generated(length=12):\n",
        "    characters = string.ascii_letters + string.digits + string.punctuation\n",
        "    password = ''.join(random.choice(characters) for _ in range(length))\n",
        "    return password\n",
        "\n",
        "length = int(input(\"Enter thr length of your desired password: \"))\n",
        "\n",
        "password = password_generated(length)\n",
        "print(\"Your desired generated password:\", password)"
      ],
      "metadata": {
        "colab": {
          "base_uri": "https://localhost:8080/"
        },
        "id": "fglthfOAi-yH",
        "outputId": "dcbe7f00-2f5c-4fcb-8314-db53e1db0ac1"
      },
      "execution_count": 3,
      "outputs": [
        {
          "output_type": "stream",
          "name": "stdout",
          "text": [
            "Enter thr length of your desired password: 15\n",
            "Your desired generated password: [q\\fK6qgp$(UP]=\n"
          ]
        }
      ]
    }
  ]
}