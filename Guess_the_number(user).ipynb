{
  "nbformat": 4,
  "nbformat_minor": 0,
  "metadata": {
    "colab": {
      "provenance": [],
      "authorship_tag": "ABX9TyPJh8+GagqAXAjaBHg0oi2+",
      "include_colab_link": true
    },
    "kernelspec": {
      "name": "python3",
      "display_name": "Python 3"
    },
    "language_info": {
      "name": "python"
    }
  },
  "cells": [
    {
      "cell_type": "markdown",
      "metadata": {
        "id": "view-in-github",
        "colab_type": "text"
      },
      "source": [
        "<a href=\"https://colab.research.google.com/github/ShezaShamsher/9-Python-Projects/blob/main/Guess_the_number(user).ipynb\" target=\"_parent\"><img src=\"https://colab.research.google.com/assets/colab-badge.svg\" alt=\"Open In Colab\"/></a>"
      ]
    },
    {
      "cell_type": "markdown",
      "source": [
        "# **Guess the Number(User)**"
      ],
      "metadata": {
        "id": "gMUBs2AzCu3b"
      }
    },
    {
      "cell_type": "code",
      "source": [
        "import random\n",
        "\n",
        "print(\"Welcome to Guess the Number!!\")\n",
        "print(\"Guess the number between 50 to 100, Let's start it! \\n \")\n",
        "\n",
        "guess = random.randrange(50, 100)\n",
        "\n",
        "while True:\n",
        "    user = int(input(\"Enter your guess number: \"))\n",
        "    if user > guess:\n",
        "     print(\"To high number\")\n",
        "    elif user < guess:\n",
        "     print(\"To low number\")\n",
        "    else:\n",
        "     print(\"Congrats!🎉 Your Guess is Right!\")\n",
        "     break"
      ],
      "metadata": {
        "colab": {
          "base_uri": "https://localhost:8080/"
        },
        "id": "HR839976C1JB",
        "outputId": "bb2b3a95-34ea-4706-9e73-d13bde191213"
      },
      "execution_count": 2,
      "outputs": [
        {
          "output_type": "stream",
          "name": "stdout",
          "text": [
            "Welcome to Guess the Number!!\n",
            "Guess the number between 50 to 100, Let's start it! \n",
            " \n",
            "Enter your guess number: 89\n",
            "To high number\n",
            "Enter your guess number: 75\n",
            "To high number\n",
            "Enter your guess number: 60\n",
            "To low number\n",
            "Enter your guess number: 65\n",
            "To low number\n",
            "Enter your guess number: 68\n",
            "To low number\n",
            "Enter your guess number: 70\n",
            "Congrats!🎉 Your Guess is Right!\n"
          ]
        }
      ]
    }
  ]
}