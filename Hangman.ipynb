{
  "nbformat": 4,
  "nbformat_minor": 0,
  "metadata": {
    "colab": {
      "provenance": [],
      "authorship_tag": "ABX9TyNG8hwguMIE5e7XrByUTRYc",
      "include_colab_link": true
    },
    "kernelspec": {
      "name": "python3",
      "display_name": "Python 3"
    },
    "language_info": {
      "name": "python"
    }
  },
  "cells": [
    {
      "cell_type": "markdown",
      "metadata": {
        "id": "view-in-github",
        "colab_type": "text"
      },
      "source": [
        "<a href=\"https://colab.research.google.com/github/ShezaShamsher/9-Python-Projects/blob/main/Hangman.ipynb\" target=\"_parent\"><img src=\"https://colab.research.google.com/assets/colab-badge.svg\" alt=\"Open In Colab\"/></a>"
      ]
    },
    {
      "cell_type": "markdown",
      "source": [
        "# **Hangman**"
      ],
      "metadata": {
        "id": "2e7iR7JgMLhB"
      }
    },
    {
      "cell_type": "code",
      "source": [
        "import random\n",
        "\n",
        "words = [\"python\", \"google\", \"vscode\", \"list\", \"collab\"]\n",
        "\n",
        "word = random.choice(words)\n",
        "guess_letters = []\n",
        "attempts = 6\n",
        "\n",
        "print(\"Let's play hangman game! \\n\")\n",
        "print(\"_\" * len(words))\n",
        "\n",
        "while attempts > 0:\n",
        "    guess = input(\"\\n Guess the letters: \").lower()\n",
        "\n",
        "    if len(guess) != 1 or not guess.isalpha():\n",
        "        print(\"write one alphabet only!\")\n",
        "        continue\n",
        "    if guess in guess_letters:\n",
        "        print(\"This letter is already, guess choose another letter\")\n",
        "        continue\n",
        "    guess_letters.append(guess)\n",
        "\n",
        "    if guess in word:\n",
        "        print(\"Correct guess!\")\n",
        "\n",
        "    else:\n",
        "        attempts -= 1\n",
        "        print(f\"Wrong! {attempts} attempts\" )\n",
        "\n",
        "    displayed_word = \" \".join([letter if letter in guess_letters else \"_\" for letter in word])\n",
        "    print(displayed_word)\n",
        "\n",
        "    if \"_\" not in displayed_word:\n",
        "        print(f\"Congrats! the correct word is: {word}\")\n",
        "        break\n",
        "\n",
        "else:\n",
        "        print(f\"Game over! the correct word is: {word}\")"
      ],
      "metadata": {
        "colab": {
          "base_uri": "https://localhost:8080/"
        },
        "id": "C3wrgeIeMPoU",
        "outputId": "9c15947d-db93-4f1a-d936-92b978090077"
      },
      "execution_count": 2,
      "outputs": [
        {
          "output_type": "stream",
          "name": "stdout",
          "text": [
            "Let's play hangman game! \n",
            "\n",
            "_____\n",
            "\n",
            " Guess the letters: g\n",
            "Wrong! 5 attempts\n",
            "_ _ _ _\n",
            "\n",
            " Guess the letters: l\n",
            "Correct guess!\n",
            "l _ _ _\n",
            "\n",
            " Guess the letters: o\n",
            "Wrong! 4 attempts\n",
            "l _ _ _\n",
            "\n",
            " Guess the letters: s\n",
            "Correct guess!\n",
            "l _ s _\n",
            "\n",
            " Guess the letters: i\n",
            "Correct guess!\n",
            "l i s _\n",
            "\n",
            " Guess the letters: t\n",
            "Correct guess!\n",
            "l i s t\n",
            "Congrats! the correct word is: list\n"
          ]
        }
      ]
    }
  ]
}